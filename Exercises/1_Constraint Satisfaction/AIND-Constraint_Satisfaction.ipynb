{
 "cells": [
  {
   "cell_type": "markdown",
   "metadata": {},
   "source": [
    "# Constraint Satisfaction Problems\n",
    "---\n",
    "Constraint satisfaction is a general problem solving technique for solving a class of combinatorial optimization problems by imposing limits on the values in the solution. The goal of this exercise is to practice formulating some classical example problems as constraint satisfaction problems (CSPs), and then to explore using a powerful open source constraint satisfaction tool called [Z3](https://github.com/Z3Prover/z3) from Microsoft Research to solve them. Practicing with these simple problems will help you to recognize real-world problems that can be posed as CSPs; some solvers even have specialized utilities for specific types of problem (vehicle routing, planning, scheduling, etc.).\n",
    "\n",
    "There are many different kinds of CSP solvers available for CSPs. Z3 is a \"Satisfiability Modulo Theories\" (SMT) solver, which means that unlike the backtracking and variable assignment heuristics discussed in lecture, Z3 first converts CSPs to satisfiability problems then uses a [boolean satisfiability](https://en.wikipedia.org/wiki/Boolean_satisfiability_problem) (SAT) solver to determine feasibility. Z3 includes a number of efficient solver algorithms primarily developed to perform formal program verification, but it can also be used on general CSPs. Google's [OR tools](https://developers.google.com/optimization/) includes a CSP solver using backtracking with specialized subroutines for some common CP domains.\n",
    "\n",
    "## I. The Road Ahead\n",
    "\n",
    "0. [Cryptarithmetic](#I.-Cryptarithmetic) - introducing the Z3 API with simple word puzzles\n",
    "0. [Map Coloring](#II.-Map-Coloring) - solving the map coloring problem from lectures\n",
    "0. [N-Queens](#III.-N-Queens) - experimenting with problems that scale\n",
    "0. [Revisiting Sudoku](#IV.-Revisiting-Sudoku) - revisit the sudoku project with the Z3 solver"
   ]
  },
  {
   "cell_type": "markdown",
   "metadata": {},
   "source": [
    "<div class=\"alert alert-box alert-info\">\n",
    "NOTE: You can find solutions to this exercise in the \"solutions\" branch of the git repo, or on GitHub [here](https://github.com/udacity/artificial-intelligence/blob/solutions/Exercises/1_Constraint%20Satisfaction/AIND-Constraint_Satisfaction.ipynb).\n",
    "</div>"
   ]
  },
  {
   "cell_type": "code",
   "execution_count": 91,
   "metadata": {
    "collapsed": true
   },
   "outputs": [],
   "source": [
    "import matplotlib as mpl\n",
    "import matplotlib.pyplot as plt\n",
    "\n",
    "# from util import displayBoard\n",
    "from itertools import product\n",
    "from IPython.display import display\n",
    "from z3 import *"
   ]
  },
  {
   "cell_type": "markdown",
   "metadata": {},
   "source": [
    "---\n",
    "## I. Cryptarithmetic\n",
    "\n",
    "We'll start by exploring the Z3 module with a _very_ simple & classic CSP problem called cryptarithmetic. A cryptarithmetic puzzle is posed as an arithmetic equation made up of words where each letter represents a distinct digit in the range (0-9). (This problem has no practical significance in AI, but it is a useful illustration of the basic ideas of CSPs.) For example, consider the problem and one possible solution shown below:\n",
    "\n",
    "```\n",
    "  T W O  :    9 3 8\n",
    "+ T W O  :  + 9 3 8\n",
    "-------  :  -------\n",
    "F O U R  :  1 8 7 6\n",
    "```\n",
    "There are six distinct variables (F, O, R, T, U, W), and when we require each letter to represent a disctinct number (e.g., F != O, R != T, ..., etc.) and disallow leading zeros (i.e., T != 0 and F != 0) then one possible solution is (F=1, O=8, R=6, T=9, U=7, W=3). \n",
    "\n",
    "### IMPLEMENTATION: Declaring Variables\n",
    "For this problem we need a single variable for each distinct letter in the puzzle, and each variable will have an integer values between 0-9. (We will handle restricting the leading digits separately.) Complete the declarations in the next cell to create all of the remaining variables and constraint them to the range 0-9."
   ]
  },
  {
   "cell_type": "code",
   "execution_count": 92,
   "metadata": {
    "collapsed": true
   },
   "outputs": [],
   "source": [
    "ca_solver = Solver()  # create an instance of a Z3 CSP solver\n",
    "\n",
    "F = Int('F')  # create a z3.Int type variable instance called \"F\"\n",
    "ca_solver.add(0 <= F, F <= 9)  # add constraints to the solver: 0 <= F <= 9\n",
    "T = Int('T')\n",
    "ca_solver.add(0 <= T, T <= 9)\n",
    "W = Int('W')\n",
    "ca_solver.add(0 <= W, W <= 9)\n",
    "O = Int('O')\n",
    "ca_solver.add(0 <= O, O <= 9)\n",
    "U = Int('U')\n",
    "ca_solver.add(0 <= U, U <= 9)\n",
    "R = Int('R')\n",
    "ca_solver.add(0 <= R, R <= 9)"
   ]
  },
  {
   "cell_type": "markdown",
   "metadata": {},
   "source": [
    "### IMPLEMENTATION: Encoding Assumptions as Constraints\n",
    "We had two additional assumptions that need to be added as constraints: 1) leading digits cannot be zero, and 2) no two distinct letters represent the same digits. The first assumption can simply be added as a boolean statement like M != 0. And the second is a _very_ common CSP constraint (so common, in fact, that most libraries have a built in function to support it); z3 is no exception, with the Distinct(var_list) constraint function."
   ]
  },
  {
   "cell_type": "code",
   "execution_count": 93,
   "metadata": {
    "collapsed": true
   },
   "outputs": [],
   "source": [
    "ca_solver.add(F != 0, T != 0)\n",
    "\n",
    "ca_solver.add(Distinct(F, O, U, R, T, W))"
   ]
  },
  {
   "cell_type": "markdown",
   "metadata": {},
   "source": [
    "### Choosing Problem Constraints\n",
    "There are often multiple ways to express the constraints for a problem. For example, in this case we could write a single large constraint combining all of the letters simultaneously $T\\times10^2 + W\\times10^1 + O\\times10^0 + T\\times10^2 + W\\times10^1 + O\\times10^0 = F\\times10^3 + O\\times10^2 + U\\times10^1 + R\\times10^0$. This kind of constraint works fine for some problems, but large constraints cannot usually be evaluated for satisfiability unless every variable is bound to a specific value. Expressing the problem with smaller constraints can sometimes allow the solver to finish faster.\n",
    "\n",
    "For example, we can break out each pair of digits in the summands and introduce a carry variable for each column: $(O + O)\\times10^0 = R\\times10^0 + carry_1\\times10^1$ This constraint can be evaluated as True/False with only four values assigned.\n",
    "\n",
    "The choice of encoding on this problem is unlikely to have any effect (because the problem is so small), however it is worth considering on more complex problems.\n",
    "\n",
    "### Implementation: Add the Problem Constraints\n",
    "Pick one of the possible encodings discussed above and add the required constraints into the solver in the next cell. "
   ]
  },
  {
   "cell_type": "code",
   "execution_count": 94,
   "metadata": {
    "collapsed": true
   },
   "outputs": [],
   "source": [
    "# Primary solution using single constraint for the cryptarithmetic equation\n",
    "\n",
    "carry1 = (O + O) / 10\n",
    "carry2 = (W + W + carry1) / 10\n",
    "carry3 = (T + T + carry2) / 10\n",
    "ca_solver.add(O + O == R + carry1 * 10)\n",
    "ca_solver.add(W + W + carry1 == U + carry2 * 10)\n",
    "ca_solver.add(T + T + carry2 == O + carry3 * 10)\n",
    "ca_solver.add(carry3 == F)"
   ]
  },
  {
   "cell_type": "code",
   "execution_count": 95,
   "metadata": {
    "collapsed": true
   },
   "outputs": [
    {
     "name": "stdout",
     "output_type": "stream",
     "text": [
      "  T W O  :    8 6 7\n",
      "+ T W O  :  + 8 6 7\n",
      "-------  :  -------\n",
      "F O U R  :  1 7 3 4\n"
     ]
    }
   ],
   "source": [
    "assert ca_solver.check() == sat, \"Uh oh...the solver did not find a solution. Check your constraints.\"\n",
    "print(\"  T W O  :    {} {} {}\".format(ca_solver.model()[T], ca_solver.model()[W], ca_solver.model()[O]))\n",
    "print(\"+ T W O  :  + {} {} {}\".format(ca_solver.model()[T], ca_solver.model()[W], ca_solver.model()[O]))\n",
    "print(\"-------  :  -------\")\n",
    "print(\"F O U R  :  {} {} {} {}\".format(ca_solver.model()[F], ca_solver.model()[O], ca_solver.model()[U], ca_solver.model()[R]))"
   ]
  },
  {
   "cell_type": "markdown",
   "metadata": {},
   "source": [
    "### Cryptarithmetic Challenges\n",
    "0. Search online for [more cryptarithmetic puzzles](https://www.reddit.com/r/dailyprogrammer/comments/7p5p2o/20180108_challenge_346_easy_cryptarithmetic_solver/) (or create your own). Come to office hours or join a discussion channel to chat with your peers about the trade-offs between monolithic constraints & splitting up the constraints. (Is one way or another easier to generalize or scale with new problems? Is one of them faster for large or small problems?)\n",
    "0. Can you extend the solution to handle complex puzzles (e.g., using multiplication WORD1 x WORD2 = OUTPUT)?"
   ]
  },
  {
   "cell_type": "markdown",
   "metadata": {},
   "source": [
    "---\n",
    "## II. Map Coloring\n",
    "\n",
    "[Map coloring](https://en.wikipedia.org/wiki/Map_coloring) is a classic example of CSPs. A map coloring problem is specified by a set of colors and a map showing the borders between distinct regions. A solution to a map coloring problem is an assignment of one color to each region of the map such that no pair of adjacent regions have the same color.\n",
    "\n",
    "Run the first cell below to declare the color palette and a solver. The color palette specifies a mapping from integer to color. We'll use integers to represent the values in each constraint; then we can decode the solution from Z3 to determine the color applied to each region in the map.\n",
    "\n",
    "![Map coloring is a classic example CSP](map.png)"
   ]
  },
  {
   "cell_type": "code",
   "execution_count": 96,
   "metadata": {
    "collapsed": true
   },
   "outputs": [],
   "source": [
    "# create instance of Z3 solver & declare color palette\n",
    "mc_solver = Solver()\n",
    "colors = {'0': \"Blue\", '1': \"Red\", '2': \"Green\"}"
   ]
  },
  {
   "cell_type": "markdown",
   "metadata": {},
   "source": [
    "### IMPLEMENTATION: Add Variables\n",
    "Add a variable to represent each region on the map above. Use the abbreviated name for the regions: WA=Western Australia, SA=Southern Australia, NT=Northern Territory, Q=Queensland, NSW=New South Wales, V=Victoria, T=Tasmania. Add constraints to each variable to restrict it to one of the available colors: 0=Blue, 1=Red, 2=Green."
   ]
  },
  {
   "cell_type": "code",
   "execution_count": 97,
   "metadata": {
    "collapsed": true
   },
   "outputs": [],
   "source": [
    "WA = Int('WA')\n",
    "mc_solver.add(0 <= WA, WA <= 2)\n",
    "NT = Int('NT')\n",
    "mc_solver.add(0 <= NT, NT <= 2)\n",
    "SA = Int('SA')\n",
    "mc_solver.add(0 <= SA, SA <= 2)\n",
    "NSW = Int('NSW')\n",
    "mc_solver.add(0 <= NSW, NSW <= 2)\n",
    "Q = Int('Q')\n",
    "mc_solver.add(0 <= Q, Q <= 2)\n",
    "V = Int('V')\n",
    "mc_solver.add(0 <= V, V <= 2)\n",
    "T = Int('T')\n",
    "mc_solver.add(0 <= T, T <= 2)"
   ]
  },
  {
   "cell_type": "markdown",
   "metadata": {},
   "source": [
    "### IMPLEMENTATION: Distinct Adjacent Colors Constraints\n",
    "As in the previous example, there are many valid ways to add constraints that enforce assigning different colors to adjacent regions of the map. One way is to add boolean constraints for each pair of adjacent regions, e.g., WA != SA; WA != NT; etc.\n",
    "\n",
    "Another way is to use so-called pseudo-boolean cardinality constraint, which is a constraint of the form $ \\sum w_i l_i = k $. Constraints of this form can be created in Z3 using `PbEq(((booleanA, w_A), (booleanB, w_B), ...), k)`. Distinct neighbors can be written with k=0, and w_i = 1 for all values of i. (Note: Z3 also has `PbLe()` for $\\sum w_i l_i <= k $ and `PbGe()` for $\\sum w_i l_i >= k $)\n",
    "\n",
    "Choose one of the encodings discussed above and add the required constraints to the solver in the next cell\n",
    "."
   ]
  },
  {
   "cell_type": "code",
   "execution_count": 98,
   "metadata": {
    "collapsed": true
   },
   "outputs": [],
   "source": [
    "mc_solver.add(PbEq(((WA == NT, 1), (WA == SA, 1), (SA == NT, 1), (SA == NSW, 1), (SA == Q, 1), (SA == V, 1), (NT == Q, 1), (Q == NSW, 1), (NSW == V, 1)), 0))"
   ]
  },
  {
   "cell_type": "code",
   "execution_count": 99,
   "metadata": {
    "collapsed": true
   },
   "outputs": [
    {
     "name": "stdout",
     "output_type": "stream",
     "text": [
      "WA=Green\n",
      "NT=Blue\n",
      "SA=Red\n",
      "Q=Green\n",
      "NSW=Blue\n",
      "V=Green\n",
      "T=Blue\n"
     ]
    }
   ],
   "source": [
    "assert mc_solver.check() == sat, \"Uh oh. The solver failed to find a solution. Check your constraints.\"\n",
    "print(\"WA={}\".format(colors[mc_solver.model()[WA].as_string()]))\n",
    "print(\"NT={}\".format(colors[mc_solver.model()[NT].as_string()]))\n",
    "print(\"SA={}\".format(colors[mc_solver.model()[SA].as_string()]))\n",
    "print(\"Q={}\".format(colors[mc_solver.model()[Q].as_string()]))\n",
    "print(\"NSW={}\".format(colors[mc_solver.model()[NSW].as_string()]))\n",
    "print(\"V={}\".format(colors[mc_solver.model()[V].as_string()]))\n",
    "print(\"T={}\".format(colors[mc_solver.model()[T].as_string()]))"
   ]
  },
  {
   "cell_type": "markdown",
   "metadata": {
    "collapsed": true
   },
   "source": [
    "#### Map Coloring Challenge Problems\n",
    "1. Generalize the procedure for this problem and try it on a larger map (countries in Africa, states in the USA, etc.)\n",
    "2. Extend your procedure to perform [graph coloring](https://en.wikipedia.org/wiki/Graph_coloring) (maps are planar graphs; extending to all graphs generalizes the concept of \"neighbors\" to any pair of connected nodes). (Note: graph coloring is [NP-hard](https://en.wikipedia.org/wiki/Graph_coloring#Computational_complexity), so it may take a very long time to color large graphs.)"
   ]
  },
  {
   "cell_type": "markdown",
   "metadata": {},
   "source": [
    "---\n",
    "## III. N-Queens\n",
    "\n",
    "In the next problem domain you'll solve the 8-queens puzzle, then use it to explore the complexity of solving CSPs. The 8-queens problem asks you to place 8 queens on a standard 8x8 chessboard such that none of the queens are in \"check\" (i.e., no two queens occupy the same row, column, or diagonal). The N-queens problem generalizes the puzzle to to any size square board.\n",
    "\n",
    "![The 8-queens problem is another classic CSP example](EightQueens.gif)\n",
    "\n",
    "There are many acceptable ways to represent the N-queens problem, but one convenient way is to recognize that one of the constraints (either the row or column constraint) can be enforced implicitly by the encoding.  If we represent a solution as an array with N elements, then each position in the array can represent a column of the board, and the value at each position can represent which row the queen is placed on.\n",
    "\n",
    "In this encoding, we only need a constraint to make sure that no two queens occupy the same row, and one to make sure that no two queens occupy the same diagonal.\n",
    "\n",
    "#### IMPLEMENTATION: N-Queens Solver\n",
    "Complete the function below to take an integer N >= 5 and return a Z3 solver instance with appropriate constraints to solve the N-Queens problem. NOTE: it may take a few minutes for the solver to complete the suggested sizes below."
   ]
  },
  {
   "cell_type": "code",
   "execution_count": 164,
   "metadata": {
    "collapsed": true
   },
   "outputs": [],
   "source": [
    "def Abs(x):\n",
    "    return If(x >= 0, x, -x)\n",
    "\n",
    "def nqueens(N):\n",
    "    solver = Solver()\n",
    "    nq_cols = [c for c in range(N)]\n",
    "    nq_rows = [r for r in range(N)]\n",
    "    nq_boxes = [[Int('R{}C{}'.format(r, c)) for r in nq_rows] for c in nq_cols]\n",
    "    nq_diagonals = []\n",
    "    for i in range(N):\n",
    "        dg_unit = []\n",
    "        for r in range(i + 1):\n",
    "            dg_unit.append(Int('R{}C{}'.format(r, i - r)))\n",
    "        nq_diagonals.append(dg_unit)\n",
    "    solver.add(*[PbLe((tuple((box != 0, 1) for box in cs)), 1) for cs in nq_boxes])\n",
    "    solver.add(*[PbLe((tuple((Int('R{}C{}'.format(r, c)) != 0, 1) for c in nq_cols)), 1) for r in nq_rows])\n",
    "    return solver\n",
   ]
  },
  {
   "cell_type": "code",
   "execution_count": 165,
   "metadata": {
    "collapsed": true
   },
   "outputs": [
    {
     "name": "stdout",
     "output_type": "stream",
     "text": [
      "8-queens: 3.2693030007067136ms\n",
      "16-queens: 5.4592180022154935ms\n",
      "32-queens: 8.32606299809413ms\n",
      "64-queens: 30.508661999192555ms\n"
     ]
    },
    {
     "data": {
      "text/plain": "[<matplotlib.lines.Line2D at 0x7f384fd27b00>]"
     },
     "execution_count": 165,
     "metadata": {},
     "output_type": "execute_result"
    },
    {
     "data": {
      "text/plain": "<matplotlib.figure.Figure at 0x7f384fd3ff98>",
      "image/png": "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\n"
     },
     "metadata": {
      "needs_background": "light"
     },
     "output_type": "display_data"
    }
   ],
   "source": [
    "import time\n",
    "from itertools import chain\n",
    "\n",
    "runtimes = []\n",
    "solutions = []\n",
    "sizes = [8, 16, 32, 64]\n",
    "\n",
    "for N in sizes:\n",
    "    nq_solver = nqueens(N)\n",
    "    start = time.perf_counter()\n",
    "    assert nq_solver.check() == sat, \"Uh oh...The solver failed to find a solution. Check your constraints.\"\n",
    "    end = time.perf_counter()\n",
    "    print(\"{}-queens: {}ms\".format(N, (end-start) * 1000))\n",
    "    runtimes.append((end - start) * 1000)\n",
    "    solutions.append(nq_solver)\n",
    "\n",
    "plt.plot(sizes, runtimes)"
   ]
  },
  {
   "cell_type": "markdown",
   "metadata": {},
   "source": [
    "### Queen Problem Challenges\n",
    "- Extend the loop to run several times and estimate the variance in the solver. How consistent is the solver timing between runs?\n",
    "- Read the `displayBoard()` function in the `util.py` module and use it to show your N-queens solution."
   ]
  },
  {
   "cell_type": "markdown",
   "metadata": {},
   "source": [
    "---\n",
    "## IV. Revisiting Sudoku\n",
    "For the last CSP we'll revisit Sudoku from the first project. You previously solved Sudoku using backtracking search with constraint propagation. This time you'll re-write your solver using Z3. The backtracking search solver relied on domain-specific heuristics to select assignments during search, and to apply constraint propagation strategies (like elimination, only-choice, naked twins, etc.). The Z3 solver does not incorporate any domain-specific information, but makes up for that by incorporating a more sophisticated and a compiled solver routine.\n",
    "\n",
    "![Example of an easy sudoku puzzle](sudoku.png)"
   ]
  },
  {
   "cell_type": "code",
   "execution_count": 119,
   "metadata": {
    "collapsed": true
   },
   "outputs": [],
   "source": [
    "from itertools import chain  # flatten nested lists; chain(*[[a, b], [c, d], ...]) == [a, b, c, d, ...]\n",
    "rows = 'ABCDEFGHI'\n",
    "cols = '123456789'\n",
    "boxes = [[Int(\"{}{}\".format(r, c)) for c in cols] for r in rows]  # declare variables for each box in the puzzle\n",
    "s_solver = Solver()  # create a solver instance"
   ]
  },
  {
   "cell_type": "markdown",
   "metadata": {},
   "source": [
    "#### IMPLEMENTATION: General Constraints\n",
    "Add constraints for each of the following conditions:\n",
    "- Boxes can only have values between 1-9 (inclusive)\n",
    "- Each box in a row must have a distinct value\n",
    "- Each box in a column must have a distinct value\n",
    "- Each box in a 3x3 block must have a distinct value"
   ]
  },
  {
   "cell_type": "code",
   "execution_count": 120,
   "metadata": {
    "collapsed": true
   },
   "outputs": [],
   "source": [
    "s_solver.add(*[1 <= box for cs in boxes for box in cs], *[box <= 9 for cs in boxes for box in cs])\n",
    "\n",
    "s_solver.add(*[Distinct(*[Int(\"{}{}\".format(r, c) )for c in cols]) for r in rows])\n",
    "\n",
    "s_solver.add(*[Distinct(*[Int(\"{}{}\".format(r, c) )for r in rows]) for c in cols])\n",
    "\n",
    "def cross(a, b):\n",
    "    return [s + t for s in a for t in b]\n",
    "\n",
    "square_units = [cross(rs, cs) for rs in ('ABC', 'DEF', 'GHI') for cs in ('123', '456', '789')]\n",
    "s_solver.add(*[Distinct(*[Int(box) for box in unit]) for unit in square_units])"
   ]
  },
  {
   "cell_type": "markdown",
   "metadata": {},
   "source": [
    "#### IMPLMENTATION: Puzzle-Specific Constraints\n",
    "Given the hints provided in the initial puzzle layout, you must also add constraints binding the box values to the specified values. For example, to solve the example puzzle you must specify A3 == 3 and B1 == 9, etc. The cells with a value of zero in the board below are \"blank\", so you should **not** create any constraint with the associate box."
   ]
  },
  {
   "cell_type": "code",
   "execution_count": 121,
   "metadata": {
    "collapsed": true
   },
   "outputs": [],
   "source": [
    "# use the value 0 to indicate that a box does not have an assigned value\n",
    "# board = ((0, 0, 3, 0, 2, 0, 6, 0, 0),\n",
    "#          (9, 0, 0, 3, 0, 5, 0, 0, 1),\n",
    "#          (0, 0, 1, 8, 0, 6, 4, 0, 0),\n",
    "#          (0, 0, 8, 1, 0, 2, 9, 0, 0),\n",
    "#          (7, 0, 0, 0, 0, 0, 0, 0, 8),\n",
    "#          (0, 0, 6, 7, 0, 8, 2, 0, 0),\n",
    "#          (0, 0, 2, 6, 0, 9, 5, 0, 0),\n",
    "#          (8, 0, 0, 2, 0, 3, 0, 0, 9),\n",
    "#          (0, 0, 5, 0, 1, 0, 3, 0, 0))\n",
    "\n",
    "# Hardest Sudoku\n",
    "board = ((8, 0, 0, 0, 0, 0, 0, 0, 0),\n",
    "         (0, 0, 3, 6, 0, 0, 0, 0, 0),\n",
    "         (0, 7, 0, 0, 9, 0, 2, 0, 0),\n",
    "         (0, 5, 0, 0, 0, 7, 0, 0, 0),\n",
    "         (0, 0, 0, 0, 4, 5, 7, 0, 0),\n",
    "         (0, 0, 0, 1, 0, 0, 0, 3, 0),\n",
    "         (0, 0, 1, 0, 0, 0, 0, 6, 8),\n",
    "         (0, 0, 8, 5, 0, 0, 0, 1, 0),\n",
    "         (0, 9, 0, 0, 0, 0, 4, 0, 0))\n",
    "\n",
    "s_solver.add(*[boxes[r][c] == board[r][c] for r in range(0, len(rows)) for c in range(0, len(cols)) if board[r][c] != 0])"
   ]
  },
  {
   "cell_type": "code",
   "execution_count": 122,
   "metadata": {
    "collapsed": true
   },
   "outputs": [
    {
     "name": "stdout",
     "output_type": "stream",
     "text": [
      " 8  1  2 | 7  5  3 | 6  4  9 \n",
      " 9  4  3 | 6  8  2 | 1  7  5 \n",
      " 6  7  5 | 4  9  1 | 2  8  3 \n",
      "---------|---------|---------\n",
      " 1  5  4 | 2  3  7 | 8  9  6 \n",
      " 3  6  9 | 8  4  5 | 7  2  1 \n",
      " 2  8  7 | 1  6  9 | 5  3  4 \n",
      "---------|---------|---------\n",
      " 5  2  1 | 9  7  4 | 3  6  8 \n",
      " 4  3  8 | 5  2  6 | 9  1  7 \n",
      " 7  9  6 | 3  1  8 | 4  5  2 \n"
     ]
    }
   ],
   "source": [
    "assert s_solver.check() == sat, \"Uh oh. The solver didn't find a solution. Check your constraints.\"\n",
    "for row, _boxes in enumerate(boxes):\n",
    "    if row and row % 3 == 0:\n",
    "        print('-'*9+\"|\"+'-'*9+\"|\"+'-'*9)\n",
    "    for col, box in enumerate(_boxes):\n",
    "        if col and col % 3 == 0:\n",
    "            print('|', end='')\n",
    "        print(' {} '.format(s_solver.model()[box]), end='')\n",
    "    print()"
   ]
  },
  {
   "cell_type": "markdown",
   "metadata": {},
   "source": [
    "#### Sudoku Challenges\n",
    "1. Solve the \"[hardest sudoku puzzle](# https://www.telegraph.co.uk/news/science/science-news/9359579/Worlds-hardest-sudoku-can-you-crack-it.html)\"\n",
    "2. Search for \"3d Sudoku rules\", then extend your solver to handle 3d puzzles"
   ]
  }
 ],
 "metadata": {
  "anaconda-cloud": {},
  "kernelspec": {
   "display_name": "Python [default]",
   "language": "python",
   "name": "python3"
  },
  "language_info": {
   "codemirror_mode": {
    "name": "ipython",
    "version": 3
   },
   "file_extension": ".py",
   "mimetype": "text/x-python",
   "name": "python",
   "nbconvert_exporter": "python",
   "pygments_lexer": "ipython3",
   "version": "3.5.4"
  }
 },
 "nbformat": 4,
 "nbformat_minor": 1
}
